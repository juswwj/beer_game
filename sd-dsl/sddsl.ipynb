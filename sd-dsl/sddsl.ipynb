{
 "cells": [
  {
   "cell_type": "raw",
   "metadata": {},
   "source": [
    "---\n",
    "title: \"System Dynamics\"\n",
    "keywords: system dynamics, systemdynamics, sd dsl, bptk, bptk-py, python, business simulation\n",
    "description: \"Introduction to building models using the domain specific language for System Dynamics (SD DSL) that is part of the BPTK-Py business simulation framework.\"\n",
    "---"
   ]
  },
  {
   "attachments": {},
   "cell_type": "markdown",
   "metadata": {},
   "source": [
    "# System Dynamics\n",
    "\n",
    "This section explains how to use BPTK for System Dymamics modeling, both in pure Python using the domain specific language for System Dynamics (SD DSL) and also using XMILE.\n",
    "\n",
    "## Contents\n",
    "\n",
    "- [A Simple Python Library For System Dynamics](./simple_python_library_sd_dsl/simple_python_library_sd_dsl.ipynb)\n",
    "- [SD DSL Functions](./sd_dsl_functions/sd_dsl_functions.ipynb)\n",
    "- [Creating User-defined Functions in SD Models](./sd_user_defined_functions/sd_user_defined_functions.ipynb)\n",
    "- [SD DSL: Under The Hood](./sd_dsl_under_the_hood/sd_dsl_under_the_hood.ipynb)\n",
    "- [The Mathematics Underlying the SD DSL](./sd_dsl_mathematics/sd_dsl_mathematics.ipynb)\n",
    "- [Working with XMILE](../xmile/xmile.ipynb)"
   ]
  },
  {
   "cell_type": "markdown",
   "metadata": {},
   "source": []
  }
 ],
 "metadata": {
  "kernelspec": {
   "display_name": "venv",
   "language": "python",
   "name": "python3"
  },
  "language_info": {
   "codemirror_mode": {
    "name": "ipython",
    "version": 3
   },
   "file_extension": ".py",
   "mimetype": "text/x-python",
   "name": "python",
   "nbconvert_exporter": "python",
   "pygments_lexer": "ipython3",
   "version": "3.11.1"
  },
  "orig_nbformat": 4
 },
 "nbformat": 4,
 "nbformat_minor": 2
}
