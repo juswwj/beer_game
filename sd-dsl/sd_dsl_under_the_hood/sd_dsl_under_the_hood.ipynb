{
 "cells": [
  {
   "cell_type": "raw",
   "metadata": {},
   "source": [
    "---\n",
    "title: SD DSL - Under The Hood\n",
    "description: Introduction to the python library for system dynamics, that is part of the BPTK-Py business simulation framework.\n",
    "keywords: system dynamics, systemdynamics, sd dsl, bptk, bptk-py, python, metaprogramming, business simulation\n",
    "eval: false\n",
    "execute: \n",
    "  enabled: false\n",
    "---"
   ]
  },
  {
   "cell_type": "markdown",
   "metadata": {},
   "source": [
    "# SD DSL: Under The Hood\n",
    "**Creating A Domain Specific Language For System Dynamics Simulations**"
   ]
  },
  {
   "attachments": {},
   "cell_type": "markdown",
   "metadata": {},
   "source": [
    "Part of the BPTK Framework is the *System Dynamics Domain Specific Language (SD DSL)*. Using the SD DSL, you can easily build System Dynamics Mmodels directly in Python using an intuitive Syntax. \n",
    "\n",
    "This notebook takes a look under the hood of the SD DSL and explains how it creates the underlying equations that are needed to run a simulation.\n",
    "\n",
    "This should give you a better understanding of System Dynamics, of the SD DSL and of Python metaprogramming techniques.\n",
    "\n",
    "The following diagram contains the three key System Dynamics language elements:\n",
    "\n",
    "* Stocks\n",
    "* Flows\n",
    "* Converters\n",
    "\n",
    "![Simple System Dynamics Model](sfd_simple_model.svg)\n",
    "\n",
    "At any given time $t$, a stock is equal to the value of the stock at time $t-1$ plus the sum of all inflows, minus the sum of all outflow at time $t-1$ are simply the sum of the flows that flow into and out of them, over time.\n",
    "\n",
    "Flows and converters are simply functions of their inputs.\n",
    "\n",
    "The general mathematical equations for the stocks above are:"
   ]
  },
  {
   "cell_type": "markdown",
   "metadata": {},
   "source": [
    "\\begin{equation*}\n",
    "stock(t)=stock(t-1)+\\sum_{inflows}inflow(t-1)-\\sum_{outflows}outflow(t-1)\n",
    "\\end{equation*}"
   ]
  },
  {
   "cell_type": "markdown",
   "metadata": {},
   "source": [
    "\\begin{equation*}\n",
    "flow(t) = function(input_1,...,input_n)\n",
    "\\end{equation*}"
   ]
  },
  {
   "cell_type": "markdown",
   "metadata": {},
   "source": [
    "\\begin{equation*}\n",
    "converter(t) = function(input_1,...,input_n)\n",
    "\\end{equation*}"
   ]
  },
  {
   "cell_type": "markdown",
   "metadata": {},
   "source": [
    "The concrete equations for the model in the diagram above are:"
   ]
  },
  {
   "cell_type": "markdown",
   "metadata": {},
   "source": [
    "\\begin{equation*}\n",
    "stock(t)=stock(t-1)+\\sum_{inflows}inflow(t-1)\n",
    "\\end{equation*}"
   ]
  },
  {
   "cell_type": "markdown",
   "metadata": {},
   "source": [
    "\\begin{equation*}\n",
    "flow(t) = stock(t)*rate(t)\n",
    "\\end{equation*}"
   ]
  },
  {
   "cell_type": "markdown",
   "metadata": {},
   "source": [
    "\\begin{equation*}\n",
    "rate(t) = 0.1\n",
    "\\end{equation*}"
   ]
  },
  {
   "cell_type": "markdown",
   "metadata": {},
   "source": [
    "\\begin{equation*}\n",
    "stock(0) = 1\n",
    "\\end{equation*}"
   ]
  },
  {
   "cell_type": "markdown",
   "metadata": {},
   "source": [
    "The SD DSL allows us to write SD models in Python using a simple syntax:\n",
    "\n",
    "```python\n",
    "stock = model.stock(\"stock\")\n",
    "flow = model.flow(\"flow\")\n",
    "rate = model.converter(\"rate\")\n",
    "stock.initial_value = 1\n",
    "rate.equation=0.1\n",
    "flow.equation=stock*rate\n",
    "stock.equation=flow\n",
    "```\n",
    "\n",
    "But under the hood, the SD DSL needs to build the equations listed above to ensure that we can simulate the model.\n",
    "\n",
    "Let's take a look at how this is done, step by step."
   ]
  },
  {
   "cell_type": "markdown",
   "metadata": {},
   "source": [
    "## Step 1: Write Python Code For The Equations Above"
   ]
  },
  {
   "cell_type": "markdown",
   "metadata": {},
   "source": [
    "The SD DSL uses lambda functions lambda functions to implement the equation if the System Dynamics model."
   ]
  },
  {
   "cell_type": "code",
   "execution_count": null,
   "metadata": {},
   "outputs": [],
   "source": [
    "import pandas as pd\n",
    "import matplotlib"
   ]
  },
  {
   "cell_type": "code",
   "execution_count": 3,
   "metadata": {},
   "outputs": [],
   "source": [
    "stock = lambda t: stock(t-1) + flow(t-1) if t>0 else 1"
   ]
  },
  {
   "cell_type": "code",
   "execution_count": 4,
   "metadata": {},
   "outputs": [],
   "source": [
    "flow = lambda t: stock(t) * rate(t)"
   ]
  },
  {
   "cell_type": "code",
   "execution_count": 5,
   "metadata": {},
   "outputs": [],
   "source": [
    "rate = lambda t: 0.1"
   ]
  },
  {
   "cell_type": "code",
   "execution_count": 6,
   "metadata": {},
   "outputs": [
    {
     "data": {
      "text/plain": [
       "2.5937424601"
      ]
     },
     "execution_count": 6,
     "metadata": {},
     "output_type": "execute_result"
    }
   ],
   "source": [
    "stock(10)"
   ]
  },
  {
   "cell_type": "markdown",
   "metadata": {},
   "source": [
    "## Step 2: Plot The Resulting Equation"
   ]
  },
  {
   "cell_type": "markdown",
   "metadata": {},
   "source": [
    "Plot the stock equation for 20 timesteps, e.g. using a pandas dataframe."
   ]
  },
  {
   "cell_type": "code",
   "execution_count": 7,
   "metadata": {},
   "outputs": [],
   "source": [
    "df = pd.DataFrame((stock(t)) for t in range(0,20) )"
   ]
  },
  {
   "cell_type": "code",
   "execution_count": 8,
   "metadata": {},
   "outputs": [
    {
     "data": {
      "text/plain": [
       "<Axes: >"
      ]
     },
     "execution_count": 8,
     "metadata": {},
     "output_type": "execute_result"
    },
    {
     "data": {
      "image/png": "[encoded data removed]",
      "text/plain": [
       "<Figure size 640x480 with 1 Axes>"
      ]
     },
     "metadata": {},
     "output_type": "display_data"
    }
   ],
   "source": [
    "df.plot(kind=\"line\")"
   ]
  },
  {
   "cell_type": "markdown",
   "metadata": {},
   "source": [
    "## Step 3: Keep Equations in A Dictionary"
   ]
  },
  {
   "cell_type": "markdown",
   "metadata": {},
   "source": [
    "Assume we want to keep equations in a \"model\" and add new ones dynamically:  create a dictioanry of equations that are accessed by equation names as strings, e.g. `equation[\"stock\"](5)`"
   ]
  },
  {
   "cell_type": "code",
   "execution_count": 9,
   "metadata": {},
   "outputs": [],
   "source": [
    "equations={}"
   ]
  },
  {
   "cell_type": "code",
   "execution_count": 10,
   "metadata": {},
   "outputs": [],
   "source": [
    "equations[\"stock\"] = lambda t: equations[\"stock\"](t-1) + equations[\"flow\"](t-1) if t>0 else 1"
   ]
  },
  {
   "cell_type": "code",
   "execution_count": 11,
   "metadata": {},
   "outputs": [],
   "source": [
    "equations[\"flow\"] = lambda t: equations[\"stock\"](t) * equations[\"rate\"](t)"
   ]
  },
  {
   "cell_type": "code",
   "execution_count": 12,
   "metadata": {},
   "outputs": [],
   "source": [
    "equations[\"rate\"] = lambda t: 0.1"
   ]
  },
  {
   "cell_type": "code",
   "execution_count": 13,
   "metadata": {},
   "outputs": [
    {
     "data": {
      "text/plain": [
       "2.5937424601"
      ]
     },
     "execution_count": 13,
     "metadata": {},
     "output_type": "execute_result"
    }
   ],
   "source": [
    "equations[\"stock\"](10)"
   ]
  },
  {
   "cell_type": "markdown",
   "metadata": {},
   "source": [
    "## Step 4: Use Memoization To Improve Performance"
   ]
  },
  {
   "cell_type": "markdown",
   "metadata": {},
   "source": [
    "In order to calculate the value of a stock at a given time $t$, you need to know all preceding values. The way the model is encoded at the moment, this means that we first calculate the value at time $t = 1$, then to calculate the value at time $t = 2$ we need to calcualte the values at time $t=1$ and then at time $t =2$ and so on ... this means that even models with only few timesteps can take a very long time to evaluate.\n",
    "\n",
    "The way around this of course is to remember the value of each equation at each time step, so that you don't have to recurse through all timesteps at every timestep.\n",
    "\n",
    "We do this using a technique called _memoization_."
   ]
  },
  {
   "cell_type": "code",
   "execution_count": 14,
   "metadata": {},
   "outputs": [
    {
     "name": "stdout",
     "output_type": "stream",
     "text": [
      "151 µs ± 1.08 µs per loop (mean ± std. dev. of 7 runs, 10,000 loops each)\n"
     ]
    }
   ],
   "source": [
    "%timeit equations[\"stock\"](10)"
   ]
  },
  {
   "cell_type": "code",
   "execution_count": 14,
   "metadata": {},
   "outputs": [
    {
     "name": "stdout",
     "output_type": "stream",
     "text": [
      "519 ms ± 3.33 ms per loop (mean ± std. dev. of 7 runs, 1 loop each)\n"
     ]
    }
   ],
   "source": [
    "%timeit equations[\"stock\"](20)"
   ]
  },
  {
   "cell_type": "code",
   "execution_count": 15,
   "metadata": {},
   "outputs": [],
   "source": [
    "equations={}"
   ]
  },
  {
   "cell_type": "code",
   "execution_count": 16,
   "metadata": {},
   "outputs": [],
   "source": [
    "memo={}"
   ]
  },
  {
   "cell_type": "markdown",
   "metadata": {},
   "source": [
    "The memoization function stores the value of each equation at each timestep. When asking for the value of an equation at a given time, it first checks if the value has already been calculated. If yes, it returns that value. If no, it calculates the value, stores it and then returns it."
   ]
  },
  {
   "cell_type": "code",
   "execution_count": 18,
   "metadata": {},
   "outputs": [],
   "source": [
    "def memoize(equation, time):\n",
    "        \n",
    "        try:\n",
    "            mymemo = memo[equation]\n",
    "        except:\n",
    "            # In case the equation does not exist in memo\n",
    "            memo[equation] = {}\n",
    "            mymemo = memo[equation]\n",
    "        if time in mymemo.keys():\n",
    "            return mymemo[time]\n",
    "        else:\n",
    "            result = equations[equation](time)\n",
    "            mymemo[time] = result\n",
    "\n",
    "        return result"
   ]
  },
  {
   "cell_type": "code",
   "execution_count": 19,
   "metadata": {},
   "outputs": [],
   "source": [
    "equations[\"stock\"] = lambda t: memoize(\"stock\",t-1) + memoize(\"flow\",t-1) if t>0 else 1"
   ]
  },
  {
   "cell_type": "code",
   "execution_count": 20,
   "metadata": {},
   "outputs": [],
   "source": [
    "equations[\"flow\"] = lambda t: memoize(\"stock\",t) * memoize(\"rate\",t)"
   ]
  },
  {
   "cell_type": "code",
   "execution_count": 21,
   "metadata": {},
   "outputs": [],
   "source": [
    "equations[\"rate\"] = lambda t: 0.1"
   ]
  },
  {
   "cell_type": "code",
   "execution_count": 22,
   "metadata": {},
   "outputs": [
    {
     "data": {
      "text/plain": [
       "1.61051"
      ]
     },
     "execution_count": 22,
     "metadata": {},
     "output_type": "execute_result"
    }
   ],
   "source": [
    "equations[\"stock\"](5)"
   ]
  },
  {
   "cell_type": "code",
   "execution_count": 23,
   "metadata": {},
   "outputs": [
    {
     "name": "stdout",
     "output_type": "stream",
     "text": [
      "187 ns ± 0.171 ns per loop (mean ± std. dev. of 7 runs, 10,000,000 loops each)\n"
     ]
    }
   ],
   "source": [
    "%timeit equations[\"stock\"](20)"
   ]
  },
  {
   "cell_type": "code",
   "execution_count": 24,
   "metadata": {},
   "outputs": [
    {
     "name": "stdout",
     "output_type": "stream",
     "text": [
      "187 ns ± 1.23 ns per loop (mean ± std. dev. of 7 runs, 10,000,000 loops each)\n"
     ]
    }
   ],
   "source": [
    "%timeit equations[\"stock\"](30)"
   ]
  },
  {
   "cell_type": "code",
   "execution_count": 25,
   "metadata": {},
   "outputs": [
    {
     "data": {
      "text/plain": [
       "117.39085287969533"
      ]
     },
     "execution_count": 25,
     "metadata": {},
     "output_type": "execute_result"
    }
   ],
   "source": [
    "equations[\"stock\"](50)"
   ]
  },
  {
   "cell_type": "code",
   "execution_count": 26,
   "metadata": {},
   "outputs": [],
   "source": [
    "df = pd.DataFrame((equations[\"stock\"](t)) for t in range(0,50) )"
   ]
  },
  {
   "cell_type": "code",
   "execution_count": 27,
   "metadata": {},
   "outputs": [
    {
     "data": {
      "text/plain": [
       "<Axes: >"
      ]
     },
     "execution_count": 27,
     "metadata": {},
     "output_type": "execute_result"
    },
    {
     "data": {
      "image/png": "[encoded data removed]",
      "text/plain": [
       "<Figure size 640x480 with 1 Axes>"
      ]
     },
     "metadata": {},
     "output_type": "display_data"
    }
   ],
   "source": [
    "df.plot(kind=\"line\")"
   ]
  },
  {
   "cell_type": "markdown",
   "metadata": {},
   "source": [
    "## Step 5: Compile Equations From Strings"
   ]
  },
  {
   "cell_type": "markdown",
   "metadata": {},
   "source": [
    "Now that we know what equations we want, we need a find a way of generating them directly. We do this by first generating the code in string form and then compiling that string into code using the `eval`function."
   ]
  },
  {
   "cell_type": "code",
   "execution_count": 28,
   "metadata": {},
   "outputs": [],
   "source": [
    "equations[\"stock\"]=eval(\"lambda t: memoize('stock',t-1) + memoize('flow',t-1) if t>0 else 1\")"
   ]
  },
  {
   "cell_type": "code",
   "execution_count": 28,
   "metadata": {},
   "outputs": [
    {
     "data": {
      "text/plain": [
       "1.61051"
      ]
     },
     "execution_count": 28,
     "metadata": {},
     "output_type": "execute_result"
    }
   ],
   "source": [
    "equations[\"stock\"](5)"
   ]
  },
  {
   "cell_type": "code",
   "execution_count": 29,
   "metadata": {},
   "outputs": [
    {
     "data": {
      "text/plain": [
       "<function __main__.<lambda>(t)>"
      ]
     },
     "execution_count": 29,
     "metadata": {},
     "output_type": "execute_result"
    }
   ],
   "source": [
    "equations[\"stock\"]"
   ]
  },
  {
   "cell_type": "markdown",
   "metadata": {},
   "source": [
    "## Step 6: Encapsulate The Basic Functionality In Classes"
   ]
  },
  {
   "cell_type": "markdown",
   "metadata": {},
   "source": [
    "Now that we have all the building blocks for our SD DSL, we would like to encapsulate them in classes that allow us to build a model at runtime.\n",
    "\n",
    "We want to be able to build a model using objects at runtime, the underlying equations should be generated for us.\n",
    "\n",
    "* Create classes for the model (that will hold the model elements and equations) and for the elements themselves.\n",
    "* New elements are created using the model as a factory (e.g. `another_stock = model.stock(\"name of another stock\")`)\n",
    "* Elements know which model they belong to\n",
    "* The equations for each element are defined using an equation method on the elements (e.g. `stock.equation=flow`)\n",
    "* The memoization function should be part of the model class\n",
    "* Each element should have a term function `element.term` that generate a string representation of itself (e.g `model.memoize(\"stock\",t)`)\n",
    "* Remember that stocks have an initial value"
   ]
  },
  {
   "cell_type": "code",
   "execution_count": 40,
   "metadata": {},
   "outputs": [],
   "source": [
    "class Model:\n",
    "    def __init__(self):\n",
    "        self._stocks = {}\n",
    "        self._flows = {}\n",
    "        self._converters = {}\n",
    "        self._memo={}\n",
    "        \n",
    "    def stock(self, name):\n",
    "        if name not in self._stocks:\n",
    "            self._stocks[name] = Stock(model, name)\n",
    "        return self._stocks[name]\n",
    "    \n",
    "    def flow(self, name):\n",
    "        if name not in self._flows:\n",
    "            self._flows[name] = Flow(model, name)\n",
    "        return self._flows[name]\n",
    "    \n",
    "    def converter(self, name):\n",
    "        if name not in self._converters:\n",
    "            self._converters[name] = Converter(model, name)\n",
    "        return self._converters[name]\n",
    "    \n",
    "    def memoize(self,equation, arg):\n",
    "        \n",
    "        try:\n",
    "            mymemo = self._memo[equation]\n",
    "        except:\n",
    "            # In case the equation does not exist in memo\n",
    "            self._memo[equation] = {}\n",
    "            mymemo = self._memo[equation]\n",
    "        if arg in mymemo.keys():\n",
    "            return mymemo[arg]\n",
    "        else:\n",
    "            result = self._equations[equation](arg)\n",
    "            mymemo[arg] = result\n",
    "\n",
    "        return result"
   ]
  },
  {
   "cell_type": "code",
   "execution_count": 41,
   "metadata": {},
   "outputs": [],
   "source": [
    "class Element:\n",
    "    def __init__(self, model, name):\n",
    "        self._model = model\n",
    "        self._name = name\n",
    "        self._equation = None\n",
    "    \n",
    "    @property\n",
    "    def equation(self):\n",
    "        return self._equation\n",
    "    \n",
    "    @equation.setter\n",
    "    def equation(self, equation):\n",
    "        self._equation = equation\n",
    "        \n",
    "    def term(self,time=\"t\"):\n",
    "        return \"model.memoize('{}',{})\".format(self._name, time)"
   ]
  },
  {
   "cell_type": "code",
   "execution_count": 42,
   "metadata": {},
   "outputs": [],
   "source": [
    "class Stock(Element):\n",
    "    \n",
    "    def __init__(self,model, name):\n",
    "        super(Stock, self).__init__(model, name)\n",
    "        self._initial_value = 0\n",
    "        \n",
    "    @property\n",
    "    def initial_value(self):\n",
    "        return self._initial_value\n",
    "    \n",
    "    @initial_value.setter\n",
    "    def initial_value(self, value):\n",
    "        self._initial_value=value\n",
    "\n",
    "    \n",
    "class Flow(Element): \n",
    "    pass\n",
    "    \n",
    "class Converter(Element):\n",
    "    pass\n",
    "    "
   ]
  },
  {
   "cell_type": "code",
   "execution_count": 43,
   "metadata": {},
   "outputs": [],
   "source": [
    "model = Model()"
   ]
  },
  {
   "cell_type": "code",
   "execution_count": 44,
   "metadata": {},
   "outputs": [],
   "source": [
    "stock = model.stock(\"stock\")"
   ]
  },
  {
   "cell_type": "code",
   "execution_count": 45,
   "metadata": {},
   "outputs": [
    {
     "data": {
      "text/plain": [
       "\"model.memoize('stock',t)\""
      ]
     },
     "execution_count": 45,
     "metadata": {},
     "output_type": "execute_result"
    }
   ],
   "source": [
    "stock.term()"
   ]
  },
  {
   "cell_type": "code",
   "execution_count": 46,
   "metadata": {},
   "outputs": [],
   "source": [
    "stock.initial_value=1"
   ]
  },
  {
   "cell_type": "code",
   "execution_count": 47,
   "metadata": {},
   "outputs": [],
   "source": [
    "rate = model.converter(\"rate\")"
   ]
  },
  {
   "cell_type": "code",
   "execution_count": 48,
   "metadata": {},
   "outputs": [
    {
     "data": {
      "text/plain": [
       "\"model.memoize('rate',t)\""
      ]
     },
     "execution_count": 48,
     "metadata": {},
     "output_type": "execute_result"
    }
   ],
   "source": [
    "rate.term()"
   ]
  },
  {
   "cell_type": "code",
   "execution_count": 49,
   "metadata": {},
   "outputs": [],
   "source": [
    "flow = model.flow(\"flow\")"
   ]
  },
  {
   "cell_type": "code",
   "execution_count": 50,
   "metadata": {},
   "outputs": [
    {
     "data": {
      "text/plain": [
       "\"model.memoize('flow',t)\""
      ]
     },
     "execution_count": 50,
     "metadata": {},
     "output_type": "execute_result"
    }
   ],
   "source": [
    "flow.term()"
   ]
  },
  {
   "cell_type": "code",
   "execution_count": 51,
   "metadata": {},
   "outputs": [],
   "source": [
    "stock.equation = flow"
   ]
  },
  {
   "cell_type": "code",
   "execution_count": 52,
   "metadata": {},
   "outputs": [
    {
     "data": {
      "text/plain": [
       "<__main__.Flow at 0x12e496b90>"
      ]
     },
     "execution_count": 52,
     "metadata": {},
     "output_type": "execute_result"
    }
   ],
   "source": [
    "stock._equation"
   ]
  },
  {
   "cell_type": "code",
   "execution_count": 53,
   "metadata": {},
   "outputs": [],
   "source": [
    "rate.equation=10"
   ]
  },
  {
   "cell_type": "markdown",
   "metadata": {},
   "source": [
    "## Step 7: Auto-Generate The Equations"
   ]
  },
  {
   "cell_type": "markdown",
   "metadata": {},
   "source": [
    "Extend the framework to auto-generate the underlying lambda-equations and add them to the model. For the first version assume we just have a stock and a constant flow.\n",
    "\n",
    "Override the call operator to evalue the element at a particular timestep (e.g. `stock(10)`)\n",
    "\n",
    "Create a plot function that evaluates an element in the range 0 to 100."
   ]
  },
  {
   "cell_type": "code",
   "execution_count": 44,
   "metadata": {},
   "outputs": [],
   "source": [
    "class Model:\n",
    "    def __init__(self):\n",
    "        self._stocks = {}\n",
    "        self._flows = {}\n",
    "        self._converters = {}\n",
    "        self._memo={}\n",
    "        self._equations={}\n",
    "        \n",
    "    def stock(self, name):\n",
    "        if name not in self._stocks:\n",
    "            self._stocks[name] = Stock(model, name)\n",
    "        return self._stocks[name]\n",
    "    \n",
    "    def flow(self, name):\n",
    "        if name not in self._flows:\n",
    "            self._flows[name] = Flow(model, name)\n",
    "        return self._flows[name]\n",
    "    \n",
    "    def converter(self, name):\n",
    "        if name not in self._converters:\n",
    "            self._converters[name] = Converter(model, name)\n",
    "        return self._converters[name]\n",
    "    \n",
    "    def memoize(self,equation, arg):\n",
    "        \n",
    "        try:\n",
    "            mymemo = self._memo[equation]\n",
    "        except:\n",
    "            # In case the equation does not exist in memo\n",
    "            self._memo[equation] = {}\n",
    "            mymemo = self._memo[equation]\n",
    "        if arg in mymemo.keys():\n",
    "            return mymemo[arg]\n",
    "        else:\n",
    "            result = self._equations[equation](arg)\n",
    "            mymemo[arg] = result\n",
    "\n",
    "        return result"
   ]
  },
  {
   "cell_type": "code",
   "execution_count": 45,
   "metadata": {},
   "outputs": [],
   "source": [
    "class Element:\n",
    "    def __init__(self, model, name):\n",
    "        self._model = model\n",
    "        self._name = name\n",
    "        self._equation = None\n",
    "        self._function_string=\"\"\n",
    "    \n",
    "    @property\n",
    "    def equation(self):\n",
    "        return self._equation\n",
    "    \n",
    "    @equation.setter\n",
    "    def equation(self, equation):\n",
    "        self._equation = equation\n",
    "        self._function_string = \"lambda model, t: {}\".format(equation)\n",
    "        self.generate_function()\n",
    "        \n",
    "    def generate_function(self):\n",
    "        \"\"\"\n",
    "        Generate the function using the function_string value and eval()\n",
    "        :return: None\n",
    "        \"\"\"\n",
    "        fn = eval(self._function_string)\n",
    "        self._model._equations[self._name] = lambda t: fn(self._model, t)\n",
    "        self._model._memo[self._name] = {}\n",
    "        \n",
    "    def term(self,time=\"t\"):\n",
    "        return \"model.memoize('{}',{})\".format(self._name, time)\n",
    "    \n",
    "    def plot(self):\n",
    "        df = pd.DataFrame((self(t)) for t in range(0,100) )\n",
    "        df.plot(kind=\"line\")\n",
    "        \n",
    "    def __call__(self, *args, **kwargs):\n",
    "        return self._model._equations[self._name](args[0])\n",
    "    \n",
    "    def __str__(self, other):\n",
    "        return self.term()"
   ]
  },
  {
   "cell_type": "code",
   "execution_count": 46,
   "metadata": {},
   "outputs": [],
   "source": [
    "class Stock(Element):\n",
    "    type=\"Stock\"\n",
    "    \n",
    "    def __init__(self,model, name):\n",
    "        super(Stock, self).__init__(model, name)\n",
    "        self._initial_value = 0\n",
    "        \n",
    "    @property\n",
    "    def initial_value(self):\n",
    "        return self._initial_value\n",
    "    \n",
    "    @initial_value.setter\n",
    "    def initial_value(self, value):\n",
    "        self._initial_value=value\n",
    "\n",
    "    @property\n",
    "    def equation(self):\n",
    "        return self._equation\n",
    "\n",
    "    @equation.setter\n",
    "    def equation(self, equation):\n",
    "        self._equation = equation\n",
    "\n",
    "        self._function_string = \"lambda model, t : ( (\"\n",
    "        self._function_string += str(self._initial_value)\n",
    "        self._function_string += \") if (t <= 0) else (model.memoize('{}',t-1)) \".format(self._name)\n",
    "\n",
    "        if self._equation is not None:\n",
    "            self._function_string += \"+ (\"\n",
    "            self._function_string += self._equation.term(\"t-1\")\n",
    "            self._function_string += \") )\"\n",
    "        else:\n",
    "            self._function_string += \")\"\n",
    "        \n",
    "        self.generate_function()\n",
    "\n",
    "    \n",
    "class Flow(Element): \n",
    "    type=\"Flow\"\n",
    "    \n",
    "class Converter(Element):\n",
    "    type=\"Converter\"\n",
    "    "
   ]
  },
  {
   "cell_type": "code",
   "execution_count": 47,
   "metadata": {},
   "outputs": [],
   "source": [
    "model = Model()"
   ]
  },
  {
   "cell_type": "code",
   "execution_count": 48,
   "metadata": {},
   "outputs": [],
   "source": [
    "stock = model.stock(\"stock\")"
   ]
  },
  {
   "cell_type": "code",
   "execution_count": 49,
   "metadata": {},
   "outputs": [
    {
     "data": {
      "text/plain": [
       "\"model.memoize('stock',t)\""
      ]
     },
     "execution_count": 49,
     "metadata": {},
     "output_type": "execute_result"
    }
   ],
   "source": [
    "stock.term()"
   ]
  },
  {
   "cell_type": "code",
   "execution_count": 50,
   "metadata": {},
   "outputs": [],
   "source": [
    "stock.initial_value=1"
   ]
  },
  {
   "cell_type": "code",
   "execution_count": 51,
   "metadata": {},
   "outputs": [],
   "source": [
    "flow = model.flow(\"flow\")"
   ]
  },
  {
   "cell_type": "code",
   "execution_count": 52,
   "metadata": {},
   "outputs": [
    {
     "data": {
      "text/plain": [
       "\"model.memoize('flow',t)\""
      ]
     },
     "execution_count": 52,
     "metadata": {},
     "output_type": "execute_result"
    }
   ],
   "source": [
    "flow.term()"
   ]
  },
  {
   "cell_type": "code",
   "execution_count": 53,
   "metadata": {},
   "outputs": [],
   "source": [
    "flow.equation=1"
   ]
  },
  {
   "cell_type": "code",
   "execution_count": 54,
   "metadata": {},
   "outputs": [],
   "source": [
    "stock.equation = flow"
   ]
  },
  {
   "cell_type": "code",
   "execution_count": 55,
   "metadata": {},
   "outputs": [
    {
     "data": {
      "text/plain": [
       "<__main__.Flow at 0x10ee78748>"
      ]
     },
     "execution_count": 55,
     "metadata": {},
     "output_type": "execute_result"
    }
   ],
   "source": [
    "stock._equation"
   ]
  },
  {
   "cell_type": "code",
   "execution_count": 56,
   "metadata": {},
   "outputs": [
    {
     "data": {
      "text/plain": [
       "{'flow': <function __main__.Element.generate_function.<locals>.<lambda>(t)>,\n",
       " 'stock': <function __main__.Element.generate_function.<locals>.<lambda>(t)>}"
      ]
     },
     "execution_count": 56,
     "metadata": {},
     "output_type": "execute_result"
    }
   ],
   "source": [
    "model._equations"
   ]
  },
  {
   "cell_type": "code",
   "execution_count": 57,
   "metadata": {},
   "outputs": [
    {
     "data": {
      "text/plain": [
       "1"
      ]
     },
     "execution_count": 57,
     "metadata": {},
     "output_type": "execute_result"
    }
   ],
   "source": [
    "flow(10)"
   ]
  },
  {
   "cell_type": "code",
   "execution_count": 58,
   "metadata": {},
   "outputs": [
    {
     "data": {
      "text/plain": [
       "11"
      ]
     },
     "execution_count": 58,
     "metadata": {},
     "output_type": "execute_result"
    }
   ],
   "source": [
    "stock(10)"
   ]
  },
  {
   "cell_type": "code",
   "execution_count": 59,
   "metadata": {},
   "outputs": [
    {
     "data": {
      "image/png": "[encoded data removed]",
      "text/plain": [
       "<Figure size 432x288 with 1 Axes>"
      ]
     },
     "metadata": {
      "needs_background": "light"
     },
     "output_type": "display_data"
    }
   ],
   "source": [
    "stock.plot()"
   ]
  },
  {
   "cell_type": "markdown",
   "metadata": {},
   "source": [
    "## Step 8: Extend the Equation Syntax Using Operators\n",
    "\n",
    "In order to re-create our initial model, we need to formulate an equation such as `flow.equation = stock*rate`.\n",
    "\n",
    "Override the `__mul__` methods of the Element and create a multiplication operator to deal with this."
   ]
  },
  {
   "cell_type": "code",
   "execution_count": 60,
   "metadata": {},
   "outputs": [],
   "source": [
    "class Model:\n",
    "    def __init__(self):\n",
    "        self._stocks = {}\n",
    "        self._flows = {}\n",
    "        self._converters = {}\n",
    "        self._memo={}\n",
    "        self._equations={}\n",
    "        \n",
    "    def stock(self, name):\n",
    "        if name not in self._stocks:\n",
    "            self._stocks[name] = Stock(model, name)\n",
    "        return self._stocks[name]\n",
    "    \n",
    "    def flow(self, name):\n",
    "        if name not in self._flows:\n",
    "            self._flows[name] = Flow(model, name)\n",
    "        return self._flows[name]\n",
    "    \n",
    "    def converter(self, name):\n",
    "        if name not in self._converters:\n",
    "            self._converters[name] = Converter(model, name)\n",
    "        return self._converters[name]\n",
    "    \n",
    "    def memoize(self,equation, arg):\n",
    "        \n",
    "        try:\n",
    "            mymemo = self._memo[equation]\n",
    "        except:\n",
    "            # In case the equation does not exist in memo\n",
    "            self._memo[equation] = {}\n",
    "            mymemo = self._memo[equation]\n",
    "        if arg in mymemo.keys():\n",
    "            return mymemo[arg]\n",
    "        else:\n",
    "            result = self._equations[equation](arg)\n",
    "            mymemo[arg] = result\n",
    "\n",
    "        return result"
   ]
  },
  {
   "cell_type": "code",
   "execution_count": 61,
   "metadata": {},
   "outputs": [],
   "source": [
    "class Element:\n",
    "    def __init__(self, model, name):\n",
    "        self._model = model\n",
    "        self._name = name\n",
    "        self._equation = None\n",
    "        self._function_string=\"\"\n",
    "    \n",
    "    @property\n",
    "    def equation(self):\n",
    "        return self._equation\n",
    "    \n",
    "    @equation.setter\n",
    "    def equation(self, equation):\n",
    "        self._equation = equation\n",
    "        self._function_string = \"lambda model, t: {}\".format(equation)\n",
    "        self.generate_function()\n",
    "        \n",
    "    def generate_function(self):\n",
    "        \"\"\"\n",
    "        Generate the function using the function_string value and eval()\n",
    "        :return: None\n",
    "        \"\"\"\n",
    "        fn = eval(self._function_string)\n",
    "        self._model._equations[self._name] = lambda t: fn(self._model, t)\n",
    "        self._model._memo[self._name] = {}\n",
    "        \n",
    "    def term(self,time=\"t\"):\n",
    "        return \"model.memoize('{}',{})\".format(self._name, time)\n",
    "    \n",
    "    def plot(self):\n",
    "        df = pd.DataFrame((self(t)) for t in range(0,100) )\n",
    "        df.plot(kind=\"line\")\n",
    "        \n",
    "    def __call__(self, *args, **kwargs):\n",
    "        return self._model._equations[self._name](args[0])\n",
    "    \n",
    "    def __mul__(self, other):\n",
    "        return MultiplicationOperator(self, other)\n",
    "    \n",
    "    def __str__(self):\n",
    "        return self.term()"
   ]
  },
  {
   "cell_type": "code",
   "execution_count": 62,
   "metadata": {},
   "outputs": [],
   "source": [
    "class MultiplicationOperator():\n",
    "\n",
    "    def __init__(self, element_1, element_2):\n",
    "        self._element_1 = element_1\n",
    "        self._element_2 = element_2\n",
    "        \n",
    "    def term(self, time=\"t\"):\n",
    "        return \"(\" + self._element_1.term(time) + \") * (\" + self._element_2.term(time) + \")\"\n",
    "    \n",
    "    def __str__(self):\n",
    "        return self.term()"
   ]
  },
  {
   "cell_type": "code",
   "execution_count": 63,
   "metadata": {},
   "outputs": [],
   "source": [
    "class Stock(Element):\n",
    "    type=\"Stock\"\n",
    "    \n",
    "    def __init__(self,model, name):\n",
    "        super(Stock, self).__init__(model, name)\n",
    "        self._initial_value = 0\n",
    "        \n",
    "    @property\n",
    "    def initial_value(self):\n",
    "        return self._initial_value\n",
    "    \n",
    "    @initial_value.setter\n",
    "    def initial_value(self, value):\n",
    "        self._initial_value=value\n",
    "\n",
    "    @property\n",
    "    def equation(self):\n",
    "        return self._equation\n",
    "\n",
    "    @equation.setter\n",
    "    def equation(self, equation):\n",
    "        self._equation = equation\n",
    "\n",
    "        self._function_string = \"lambda model, t : ( (\"\n",
    "        self._function_string += str(self._initial_value)\n",
    "        self._function_string += \") if (t <= 0) else (model.memoize('{}',t-1)) \".format(self._name)\n",
    "\n",
    "        if self._equation is not None:\n",
    "            self._function_string += \"+ (\"\n",
    "            self._function_string += self._equation.term(\"t-1\")\n",
    "            self._function_string += \") )\"\n",
    "        else:\n",
    "            self._function_string += \")\"\n",
    "        \n",
    "        self.generate_function()\n",
    "\n",
    "    \n",
    "class Flow(Element): \n",
    "    type=\"Flow\"\n",
    "    \n",
    "class Converter(Element):\n",
    "    type=\"Converter\"\n",
    "    "
   ]
  },
  {
   "cell_type": "code",
   "execution_count": 64,
   "metadata": {},
   "outputs": [],
   "source": [
    "model = Model()"
   ]
  },
  {
   "cell_type": "code",
   "execution_count": 65,
   "metadata": {},
   "outputs": [],
   "source": [
    "stock = model.stock(\"stock\")"
   ]
  },
  {
   "cell_type": "code",
   "execution_count": 66,
   "metadata": {},
   "outputs": [],
   "source": [
    "flow = model.flow(\"flow\")"
   ]
  },
  {
   "cell_type": "code",
   "execution_count": 67,
   "metadata": {},
   "outputs": [],
   "source": [
    "rate = model.converter(\"rate\")"
   ]
  },
  {
   "cell_type": "code",
   "execution_count": 68,
   "metadata": {},
   "outputs": [],
   "source": [
    "rate.equation=0.1"
   ]
  },
  {
   "cell_type": "code",
   "execution_count": 69,
   "metadata": {},
   "outputs": [],
   "source": [
    "stock.initial_value=1"
   ]
  },
  {
   "cell_type": "code",
   "execution_count": 70,
   "metadata": {},
   "outputs": [],
   "source": [
    "stock.equation = flow"
   ]
  },
  {
   "cell_type": "code",
   "execution_count": 71,
   "metadata": {},
   "outputs": [],
   "source": [
    "flow.equation = stock*rate"
   ]
  },
  {
   "cell_type": "code",
   "execution_count": 72,
   "metadata": {},
   "outputs": [
    {
     "data": {
      "text/plain": [
       "1.3310000000000002"
      ]
     },
     "execution_count": 72,
     "metadata": {},
     "output_type": "execute_result"
    }
   ],
   "source": [
    "stock(3)"
   ]
  },
  {
   "cell_type": "code",
   "execution_count": 73,
   "metadata": {},
   "outputs": [
    {
     "data": {
      "image/png": "[encoded data removed]",
      "text/plain": [
       "<Figure size 432x288 with 1 Axes>"
      ]
     },
     "metadata": {
      "needs_background": "light"
     },
     "output_type": "display_data"
    }
   ],
   "source": [
    "stock.plot()"
   ]
  }
 ],
 "metadata": {
  "kernelspec": {
   "display_name": "Python 3 (ipykernel)",
   "language": "python",
   "name": "python3"
  },
  "language_info": {
   "codemirror_mode": {
    "name": "ipython",
    "version": 3
   },
   "file_extension": ".py",
   "mimetype": "text/x-python",
   "name": "python",
   "nbconvert_exporter": "python",
   "pygments_lexer": "ipython3",
   "version": "3.11.1"
  },
  "widgets": {
   "application/vnd.jupyter.widget-state+json": {
    "state": {},
    "version_major": 2,
    "version_minor": 0
   }
  }
 },
 "nbformat": 4,
 "nbformat_minor": 4
}
