{
 "cells": [
  {
   "cell_type": "raw",
   "metadata": {},
   "source": [
    "---\n",
    "title: Choose Data Collector\n",
    "description: In-depth explanation of agent-based modeling\n",
    "keywords: agent-based modeling, abm, bptk, python\n",
    "---"
   ]
  },
  {
   "cell_type": "markdown",
   "metadata": {},
   "source": [
    "# Custom Data Collectors"
   ]
  },
  {
   "cell_type": "markdown",
   "metadata": {},
   "source": [
    "For agent-based models BPTK-Py has a standard data collector which collects the statistics (average, minumum, etc.) for all properties of all __agent types__. Collecting statistics for each agent individually will lead to a huge amount of data. However, if you want to explore this case or other cases which the standard data collector does not cover, you can also implement your own data collector. In this notebook, we explain how to proceed. Therefore we implement a new data collector class which collects the properties of each agent individually. \n",
    "\n",
    "We first create a new class and choose a name for it: `AgentDataCollector`. Then we implement the necessary methods and constructors. However, we don't want to create a whole new class but use the already existing methods of the standard data collector and extend it for our purposes. This saves a lot of work. The new data collector requires the following methods:\n",
    "\n",
    "- A method which collects the data of each agent\n",
    "- A method which represents the collected data in a dataframe (this is necessary for the plot method)\n",
    "- A method which plots the data because the standard visualization class of BPTK-Py cannot handle the new data collector\n",
    "\n",
    "_The data collector `AgentDataCollector` is already in the BPTK-Py framework but yet we will explain how to implement your own data collector._"
   ]
  },
  {
   "cell_type": "markdown",
   "metadata": {},
   "source": [
    "## 1. Create data collector class"
   ]
  },
  {
   "cell_type": "markdown",
   "metadata": {},
   "source": [
    "Create a class and name it `AgentDataCollector`."
   ]
  },
  {
   "cell_type": "markdown",
   "metadata": {},
   "source": [
    "## 2. Import libraries"
   ]
  },
  {
   "cell_type": "markdown",
   "metadata": {},
   "source": [
    "As explained before, we want to derive the new data collector class from the standard class. Therefore we have to import the standard data collector.\n",
    "\n",
    "```\n",
    "from BPTK_Py.abm import DataCollector\n",
    "```\n",
    "\n",
    "For plotting the data, we also require pandas and a BPTK-Py config library. The config library is necessary to obtain the same plot design as the standard plot from BPTK-Py.\n",
    "\n",
    "``` \n",
    "import pandas as pd\n",
    "import BPTK_Py.config as config\n",
    "``` \n"
   ]
  },
  {
   "cell_type": "markdown",
   "metadata": {},
   "source": [
    "Of course, you can add as many libraries as you want. In depends on what you need for your collector."
   ]
  },
  {
   "cell_type": "markdown",
   "metadata": {},
   "source": [
    "## 3. Derive standard class"
   ]
  },
  {
   "cell_type": "markdown",
   "metadata": {},
   "source": [
    "This how you derive the standard data collector:\n",
    "\n",
    "```\n",
    "class AgentDataCollector(DataCollector)\n",
    "```"
   ]
  },
  {
   "cell_type": "markdown",
   "metadata": {},
   "source": [
    "## 4. Implement methods"
   ]
  },
  {
   "cell_type": "markdown",
   "metadata": {},
   "source": [
    "As I explained before, we can either extend the class or replace methods. Since we want to overwrite the collecting method we have to replace `def collect_agent_statistic(self, time, agents)`. Now you can implement the logic of your own data collector. To save the statistics, you can use the attribute `self.agent_statistics` which is an empty dictionary."
   ]
  },
  {
   "cell_type": "markdown",
   "metadata": {},
   "source": [
    "After collecting all the data we have to bring them into an usable structure to be able to plot the statistics later. I chose to transform the dictionary into multiple dataframes. For each agent there exists one dataframe with its statistics. When we have the statistics in a dataframe we can exploit the functionalities of the library pandas."
   ]
  },
  {
   "cell_type": "markdown",
   "metadata": {},
   "source": [
    "The data is prepared and we can now plot them by using the visualization methods of pandas. To obtain the same design as the plot of BPTK-Py you need change the following parameters of the plot method. For the parameter `title` you can set any title name. For more information about the configuration you can go to the BPTK-Py documentation: [Developing Advanced User Interfaces](https://bptk.transentis-labs.com/en/latest/docs/general/how-to/how_to_developing_advanced_user_interfaces/how_to_developing_advanced_user_interfaces.html)\n",
    "\n",
    "```\n",
    "df.plot(kind=config.configuration[\"kind\"],\n",
    "                                  alpha=config.configuration[\"alpha\"],\n",
    "                                  stacked=config.configuration[\"stacked\"],\n",
    "                                  figsize=config.configuration[\"figsize\"],\n",
    "                                  title=title,\n",
    "                                  color=config.configuration[\"colors\"],\n",
    "                                  lw=config.configuration[\"linewidth\"])\n",
    "```"
   ]
  },
  {
   "cell_type": "markdown",
   "metadata": {},
   "source": [
    "## 5. Set our new data collector in simulation model"
   ]
  },
  {
   "cell_type": "markdown",
   "metadata": {},
   "source": [
    "The previous steps explained how to implement a data collector. Now, we have to set the new data collector in our model class. To show you each step, we use our model SPMAgentDataCollector.py which is in `./simulation_models/spm`."
   ]
  },
  {
   "cell_type": "markdown",
   "metadata": {},
   "source": [
    "1. You go to the simulation model and open the Python file.\n",
    "2. Import the new data collector: `from BPTK-Py.abm.datacollectors import AgentDataCollector`. \n",
    "3. Add `self.data_collector=AgentDataCollector()` in `instantiate_model(self)`."
   ]
  },
  {
   "cell_type": "markdown",
   "metadata": {},
   "source": [
    "## 6. Run simulation model with new data collector"
   ]
  },
  {
   "cell_type": "code",
   "execution_count": 1,
   "metadata": {},
   "outputs": [],
   "source": [
    "# Start BPTK and automatically read the scenarios found in the scenarios folder\n",
    "# this also loads all the Python classes referenced in the scenarios, so we are immediately ready \n",
    "# to run scenarios and plot results.\n",
    "\n",
    "from BPTK_Py.bptk import bptk \n",
    "\n",
    "bptk = bptk()"
   ]
  },
  {
   "cell_type": "code",
   "execution_count": 2,
   "metadata": {},
   "outputs": [],
   "source": [
    "#| echo: false\n",
    "%matplotlib inline\n",
    "import matplotlib.pyplot as plt\n",
    "plt.rcParams['figure.facecolor'] = 'white'\n",
    "plt.rcParams['axes.facecolor'] = 'white'\n",
    "plt.rcParams['savefig.facecolor'] = 'white'\n",
    "plt.rcParams['savefig.facecolor'] = 'white'"
   ]
  },
  {
   "cell_type": "markdown",
   "metadata": {},
   "source": [
    "In this step, we run the simulation model with a specific scenario. All statistics of each agent are collected by the data collector."
   ]
  },
  {
   "cell_type": "code",
   "execution_count": 3,
   "metadata": {},
   "outputs": [],
   "source": [
    "model = bptk.scenario_manager_factory.get_scenario(\"ABMsmSimpleProjectManagementAgentDataCollector\",\"scenario80\").model\n",
    "model.run()"
   ]
  },
  {
   "cell_type": "markdown",
   "metadata": {},
   "source": [
    "Now you can plot the stats of one or more specific agents. In our case we want to compare two tasks and see how much effort remains for them."
   ]
  },
  {
   "cell_type": "markdown",
   "metadata": {},
   "source": [
    "The following bullet points describe the parameters of the plot method:\n",
    "- agent_ids: choose the stats of the agents you want plot\n",
    "- properties: choose properties you want to plot\n",
    "- title: choose title of the plot\n",
    "- agent_type: choose the agent type"
   ]
  },
  {
   "cell_type": "code",
   "execution_count": 4,
   "metadata": {},
   "outputs": [
    {
     "data": {
      "image/png": "[encoded data removed]",
      "text/plain": [
       "<Figure size 2000x1000 with 1 Axes>"
      ]
     },
     "metadata": {},
     "output_type": "display_data"
    }
   ],
   "source": [
    "ax = model.data_collector.plot_agent_stats(agent_ids=[2,3],properties=['remaining_effort'],title=\"Scenario80\",agent_type=\"task\")"
   ]
  },
  {
   "cell_type": "markdown",
   "metadata": {},
   "source": [
    "Output the stats in a dataframe"
   ]
  },
  {
   "cell_type": "code",
   "execution_count": 5,
   "metadata": {},
   "outputs": [
    {
     "data": {
      "text/html": [
       "<div>\n",
       "<style scoped>\n",
       "    .dataframe tbody tr th:only-of-type {\n",
       "        vertical-align: middle;\n",
       "    }\n",
       "\n",
       "    .dataframe tbody tr th {\n",
       "        vertical-align: top;\n",
       "    }\n",
       "\n",
       "    .dataframe thead th {\n",
       "        text-align: right;\n",
       "    }\n",
       "</style>\n",
       "<table border=\"1\" class=\"dataframe\">\n",
       "  <thead>\n",
       "    <tr style=\"text-align: right;\">\n",
       "      <th></th>\n",
       "      <th>id</th>\n",
       "      <th>time</th>\n",
       "      <th>agent_state</th>\n",
       "      <th>agent_type</th>\n",
       "      <th>effort</th>\n",
       "      <th>remaining_effort</th>\n",
       "    </tr>\n",
       "  </thead>\n",
       "  <tbody>\n",
       "    <tr>\n",
       "      <th>0</th>\n",
       "      <td>2</td>\n",
       "      <td>0.00</td>\n",
       "      <td>in_progress</td>\n",
       "      <td>task</td>\n",
       "      <td>1</td>\n",
       "      <td>0.831200</td>\n",
       "    </tr>\n",
       "    <tr>\n",
       "      <th>1</th>\n",
       "      <td>2</td>\n",
       "      <td>0.25</td>\n",
       "      <td>in_progress</td>\n",
       "      <td>task</td>\n",
       "      <td>1</td>\n",
       "      <td>0.662273</td>\n",
       "    </tr>\n",
       "    <tr>\n",
       "      <th>2</th>\n",
       "      <td>2</td>\n",
       "      <td>0.50</td>\n",
       "      <td>in_progress</td>\n",
       "      <td>task</td>\n",
       "      <td>1</td>\n",
       "      <td>0.493219</td>\n",
       "    </tr>\n",
       "    <tr>\n",
       "      <th>3</th>\n",
       "      <td>2</td>\n",
       "      <td>0.75</td>\n",
       "      <td>in_progress</td>\n",
       "      <td>task</td>\n",
       "      <td>1</td>\n",
       "      <td>0.324038</td>\n",
       "    </tr>\n",
       "    <tr>\n",
       "      <th>4</th>\n",
       "      <td>2</td>\n",
       "      <td>1.00</td>\n",
       "      <td>in_progress</td>\n",
       "      <td>task</td>\n",
       "      <td>1</td>\n",
       "      <td>0.154729</td>\n",
       "    </tr>\n",
       "    <tr>\n",
       "      <th>...</th>\n",
       "      <td>...</td>\n",
       "      <td>...</td>\n",
       "      <td>...</td>\n",
       "      <td>...</td>\n",
       "      <td>...</td>\n",
       "      <td>...</td>\n",
       "    </tr>\n",
       "    <tr>\n",
       "      <th>479</th>\n",
       "      <td>2</td>\n",
       "      <td>119.75</td>\n",
       "      <td>closed</td>\n",
       "      <td>task</td>\n",
       "      <td>1</td>\n",
       "      <td>0.000000</td>\n",
       "    </tr>\n",
       "    <tr>\n",
       "      <th>480</th>\n",
       "      <td>2</td>\n",
       "      <td>120.00</td>\n",
       "      <td>closed</td>\n",
       "      <td>task</td>\n",
       "      <td>1</td>\n",
       "      <td>0.000000</td>\n",
       "    </tr>\n",
       "    <tr>\n",
       "      <th>481</th>\n",
       "      <td>2</td>\n",
       "      <td>120.25</td>\n",
       "      <td>closed</td>\n",
       "      <td>task</td>\n",
       "      <td>1</td>\n",
       "      <td>0.000000</td>\n",
       "    </tr>\n",
       "    <tr>\n",
       "      <th>482</th>\n",
       "      <td>2</td>\n",
       "      <td>120.50</td>\n",
       "      <td>closed</td>\n",
       "      <td>task</td>\n",
       "      <td>1</td>\n",
       "      <td>0.000000</td>\n",
       "    </tr>\n",
       "    <tr>\n",
       "      <th>483</th>\n",
       "      <td>2</td>\n",
       "      <td>120.75</td>\n",
       "      <td>closed</td>\n",
       "      <td>task</td>\n",
       "      <td>1</td>\n",
       "      <td>0.000000</td>\n",
       "    </tr>\n",
       "  </tbody>\n",
       "</table>\n",
       "<p>484 rows × 6 columns</p>\n",
       "</div>"
      ],
      "text/plain": [
       "     id    time  agent_state agent_type  effort  remaining_effort\n",
       "0     2    0.00  in_progress       task       1          0.831200\n",
       "1     2    0.25  in_progress       task       1          0.662273\n",
       "2     2    0.50  in_progress       task       1          0.493219\n",
       "3     2    0.75  in_progress       task       1          0.324038\n",
       "4     2    1.00  in_progress       task       1          0.154729\n",
       "..   ..     ...          ...        ...     ...               ...\n",
       "479   2  119.75       closed       task       1          0.000000\n",
       "480   2  120.00       closed       task       1          0.000000\n",
       "481   2  120.25       closed       task       1          0.000000\n",
       "482   2  120.50       closed       task       1          0.000000\n",
       "483   2  120.75       closed       task       1          0.000000\n",
       "\n",
       "[484 rows x 6 columns]"
      ]
     },
     "execution_count": 5,
     "metadata": {},
     "output_type": "execute_result"
    }
   ],
   "source": [
    "model.data_collector.get_agent_stats()['task'][2]"
   ]
  },
  {
   "cell_type": "code",
   "execution_count": 6,
   "metadata": {},
   "outputs": [
    {
     "data": {
      "text/html": [
       "<div>\n",
       "<style scoped>\n",
       "    .dataframe tbody tr th:only-of-type {\n",
       "        vertical-align: middle;\n",
       "    }\n",
       "\n",
       "    .dataframe tbody tr th {\n",
       "        vertical-align: top;\n",
       "    }\n",
       "\n",
       "    .dataframe thead th {\n",
       "        text-align: right;\n",
       "    }\n",
       "</style>\n",
       "<table border=\"1\" class=\"dataframe\">\n",
       "  <thead>\n",
       "    <tr style=\"text-align: right;\">\n",
       "      <th></th>\n",
       "      <th>id</th>\n",
       "      <th>time</th>\n",
       "      <th>agent_state</th>\n",
       "      <th>agent_type</th>\n",
       "      <th>effort</th>\n",
       "      <th>remaining_effort</th>\n",
       "    </tr>\n",
       "  </thead>\n",
       "  <tbody>\n",
       "    <tr>\n",
       "      <th>0</th>\n",
       "      <td>3</td>\n",
       "      <td>0.00</td>\n",
       "      <td>open</td>\n",
       "      <td>task</td>\n",
       "      <td>1</td>\n",
       "      <td>0.0</td>\n",
       "    </tr>\n",
       "    <tr>\n",
       "      <th>1</th>\n",
       "      <td>3</td>\n",
       "      <td>0.25</td>\n",
       "      <td>open</td>\n",
       "      <td>task</td>\n",
       "      <td>1</td>\n",
       "      <td>0.0</td>\n",
       "    </tr>\n",
       "    <tr>\n",
       "      <th>2</th>\n",
       "      <td>3</td>\n",
       "      <td>0.50</td>\n",
       "      <td>open</td>\n",
       "      <td>task</td>\n",
       "      <td>1</td>\n",
       "      <td>0.0</td>\n",
       "    </tr>\n",
       "    <tr>\n",
       "      <th>3</th>\n",
       "      <td>3</td>\n",
       "      <td>0.75</td>\n",
       "      <td>open</td>\n",
       "      <td>task</td>\n",
       "      <td>1</td>\n",
       "      <td>0.0</td>\n",
       "    </tr>\n",
       "    <tr>\n",
       "      <th>4</th>\n",
       "      <td>3</td>\n",
       "      <td>1.00</td>\n",
       "      <td>open</td>\n",
       "      <td>task</td>\n",
       "      <td>1</td>\n",
       "      <td>0.0</td>\n",
       "    </tr>\n",
       "    <tr>\n",
       "      <th>...</th>\n",
       "      <td>...</td>\n",
       "      <td>...</td>\n",
       "      <td>...</td>\n",
       "      <td>...</td>\n",
       "      <td>...</td>\n",
       "      <td>...</td>\n",
       "    </tr>\n",
       "    <tr>\n",
       "      <th>479</th>\n",
       "      <td>3</td>\n",
       "      <td>119.75</td>\n",
       "      <td>closed</td>\n",
       "      <td>task</td>\n",
       "      <td>1</td>\n",
       "      <td>0.0</td>\n",
       "    </tr>\n",
       "    <tr>\n",
       "      <th>480</th>\n",
       "      <td>3</td>\n",
       "      <td>120.00</td>\n",
       "      <td>closed</td>\n",
       "      <td>task</td>\n",
       "      <td>1</td>\n",
       "      <td>0.0</td>\n",
       "    </tr>\n",
       "    <tr>\n",
       "      <th>481</th>\n",
       "      <td>3</td>\n",
       "      <td>120.25</td>\n",
       "      <td>closed</td>\n",
       "      <td>task</td>\n",
       "      <td>1</td>\n",
       "      <td>0.0</td>\n",
       "    </tr>\n",
       "    <tr>\n",
       "      <th>482</th>\n",
       "      <td>3</td>\n",
       "      <td>120.50</td>\n",
       "      <td>closed</td>\n",
       "      <td>task</td>\n",
       "      <td>1</td>\n",
       "      <td>0.0</td>\n",
       "    </tr>\n",
       "    <tr>\n",
       "      <th>483</th>\n",
       "      <td>3</td>\n",
       "      <td>120.75</td>\n",
       "      <td>closed</td>\n",
       "      <td>task</td>\n",
       "      <td>1</td>\n",
       "      <td>0.0</td>\n",
       "    </tr>\n",
       "  </tbody>\n",
       "</table>\n",
       "<p>484 rows × 6 columns</p>\n",
       "</div>"
      ],
      "text/plain": [
       "     id    time agent_state agent_type  effort  remaining_effort\n",
       "0     3    0.00        open       task       1               0.0\n",
       "1     3    0.25        open       task       1               0.0\n",
       "2     3    0.50        open       task       1               0.0\n",
       "3     3    0.75        open       task       1               0.0\n",
       "4     3    1.00        open       task       1               0.0\n",
       "..   ..     ...         ...        ...     ...               ...\n",
       "479   3  119.75      closed       task       1               0.0\n",
       "480   3  120.00      closed       task       1               0.0\n",
       "481   3  120.25      closed       task       1               0.0\n",
       "482   3  120.50      closed       task       1               0.0\n",
       "483   3  120.75      closed       task       1               0.0\n",
       "\n",
       "[484 rows x 6 columns]"
      ]
     },
     "execution_count": 6,
     "metadata": {},
     "output_type": "execute_result"
    }
   ],
   "source": [
    "model.data_collector.get_agent_stats()['task'][3]"
   ]
  },
  {
   "cell_type": "markdown",
   "metadata": {},
   "source": [
    "If you want to get all stats of each agent you call `model.data_collector.get_agent_stats()`"
   ]
  }
 ],
 "metadata": {
  "kernelspec": {
   "display_name": "Python 3 (ipykernel)",
   "language": "python",
   "name": "python3"
  },
  "language_info": {
   "codemirror_mode": {
    "name": "ipython",
    "version": 3
   },
   "file_extension": ".py",
   "mimetype": "text/x-python",
   "name": "python",
   "nbconvert_exporter": "python",
   "pygments_lexer": "ipython3",
   "version": "3.11.4"
  },
  "vscode": {
   "interpreter": {
    "hash": "ba3587300f7e805997d2ae5fd2061dd10da225d2e8c160c1a8a4438e4da6c9ad"
   }
  },
  "widgets": {
   "application/vnd.jupyter.widget-state+json": {
    "state": {},
    "version_major": 2,
    "version_minor": 0
   }
  }
 },
 "nbformat": 4,
 "nbformat_minor": 4
}
