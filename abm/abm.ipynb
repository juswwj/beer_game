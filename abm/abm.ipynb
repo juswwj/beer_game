{
 "cells": [
  {
   "cell_type": "raw",
   "metadata": {},
   "source": [
    "---\n",
    "title: \"Agent Based Modeling\"\n",
    "description: \"In-depth explanation of agent-based modeling.\"\n",
    "keywords: \"agent-based modeling, abm, bptk, python\"\n",
    "---"
   ]
  },
  {
   "cell_type": "markdown",
   "metadata": {},
   "source": [
    "# Agent-based Modeling\n",
    "\n",
    "This section gives an in-depth explanation of agent-based modeling.\n",
    "\n",
    "## Contents\n",
    "\n",
    "- [Agent-based Modeling With BPTK-Py](./agent_based_modeling/agent_based_modeling.ipynb)\n",
    "- [Custom Data Collectors](./custom_datacollectors/custom_datacollectors.ipynb)"
   ]
  }
 ],
 "metadata": {
  "kernelspec": {
   "display_name": "Python 3 (ipykernel)",
   "language": "python",
   "name": "python3"
  },
  "language_info": {
   "codemirror_mode": {
    "name": "ipython",
    "version": 3
   },
   "file_extension": ".py",
   "mimetype": "text/x-python",
   "name": "python",
   "nbconvert_exporter": "python",
   "pygments_lexer": "ipython3",
   "version": "3.11.4"
  },
  "widgets": {
   "application/vnd.jupyter.widget-state+json": {
    "state": {},
    "version_major": 2,
    "version_minor": 0
   }
  }
 },
 "nbformat": 4,
 "nbformat_minor": 4
}
