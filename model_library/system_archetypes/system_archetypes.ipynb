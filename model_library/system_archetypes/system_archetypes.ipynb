{
 "cells": [
  {
   "cell_type": "raw",
   "metadata": {},
   "source": [
    "---\n",
    "title: \"System Archetypes\"\n",
    "keywords: system dynamics, causal loops, bptk, bptk-py, python, business simulation\n",
    "description: \"Simulation models and interactive dashboards of system archetypes\"\n",
    "---"
   ]
  },
  {
   "cell_type": "markdown",
   "metadata": {},
   "source": [
    "# System Archetypes\n",
    "\n",
    "System Archtetypes are basic patterns of behaviour of a system. They arise in different guises in socio-economic systems such as enterprises and their ecosystems. Being able to identify these patterns is often a first step in finding leverage points for systemic improvements.\n",
    "\n",
    "The model library provides System Dynamics models and dashboards that will provide you with a deeper understanding of the archtetypes and of how to model them."
   ]
  },
  {
   "cell_type": "markdown",
   "metadata": {},
   "source": [
    "* [Balancing Feedback](./balancing_feedback/balancing_feedback.ipynb). Balancing, goal seeking feedback loops seek to close the gap between the current state of a system and it's desired state (the goal state).\n",
    "* [Limits to Growth](./limits_to_growth/limits_to_growth.ipynb). No system property can grow indefinitely without being destroyed, so any reinforcing feedback loop must be keept in check by balancing loops. The limits to growth pattern is thus the combination of a reinforcing loop with a balancing loop."
   ]
  },
  {
   "cell_type": "markdown",
   "metadata": {},
   "source": []
  }
 ],
 "metadata": {
  "kernelspec": {
   "display_name": "Python 3 (ipykernel)",
   "language": "python",
   "name": "python3"
  },
  "language_info": {
   "codemirror_mode": {
    "name": "ipython",
    "version": 3
   },
   "file_extension": ".py",
   "mimetype": "text/x-python",
   "name": "python",
   "nbconvert_exporter": "python",
   "pygments_lexer": "ipython3",
   "version": "3.11.1"
  },
  "widgets": {
   "application/vnd.jupyter.widget-state+json": {
    "state": {},
    "version_major": 2,
    "version_minor": 0
   }
  }
 },
 "nbformat": 4,
 "nbformat_minor": 4
}
