{
 "cells": [
  {
   "cell_type": "raw",
   "metadata": {},
   "source": [
    "---\n",
    "title: \"Model Library\"\n",
    "keywords: agent-based modeling, abm, bptk, bptk-py, python, business simulation\n",
    "description: \"A small, but growing, collection of System Dynamics and Agent-based models built using the Business Prototyping Toolkit\"\n",
    "---"
   ]
  },
  {
   "attachments": {},
   "cell_type": "markdown",
   "metadata": {},
   "source": [
    "# Model Library\n",
    "\n",
    "A small, but growing, collection of System Dynamics and Agent-based models built using the _Business Prototyping Toolkit_.\n",
    "\n",
    "- [Bass Diffusion Model](./bass_diffusion/bass_diffusion.ipynb). The classic [Bass Diffusion Model](https://en.wikipedia.org/wiki/Bass_diffusion_model) that is used to explain the dynamics of introductiong a new product or service into a market.\n",
    "- [Beer Distribution Game](./beergame/beergame.ipynb). Computational notebooks, simulation models and AI training algorithms that explore the [beer distribution game](https://beergame.transentis.com) in depth.\n",
    "- [Competitive Pricing Dynamics](competitive_pricing/competitive_pricing_dynamics.ipynb) A neat little model that can be used to understand pricing dynamics.\n",
    "- [Customer Acquisition](./customer_acquisition/customer_acquisition.ipynb). A model that analyses the effects of referral marketing on customer acquisition.\n",
    "- [Enterprise Digital Twin](./enterprise_digital_twin/enterprise_digital_twin.ipynb). A simulation of a professional service firm that forms part of the transentis Enterprise Digital Twin. This is work in progress that accompanies our current [meetup series](https://www.transentis.com/resources/business-prototyping-toolkit-meetup)\n",
    "- [Make Your Professional Service Firm Grow](./make_your_psf_grow/make_your_psf_grow.md). A model that analyses growth strategies in professional service firms.\n",
    "- [System Archetypes](./system_archetypes/system_archetypes.ipynb). Models and interactive dashboards that illustrate system archetypes. System archetypes are patterns of behavior of systems.\n"
   ]
  },
  {
   "cell_type": "markdown",
   "metadata": {},
   "source": []
  }
 ],
 "metadata": {
  "kernelspec": {
   "display_name": "venv",
   "language": "python",
   "name": "python3"
  },
  "language_info": {
   "name": "python",
   "version": "3.11.1"
  },
  "orig_nbformat": 4,
  "vscode": {
   "interpreter": {
    "hash": "ba3587300f7e805997d2ae5fd2061dd10da225d2e8c160c1a8a4438e4da6c9ad"
   }
  }
 },
 "nbformat": 4,
 "nbformat_minor": 2
}
