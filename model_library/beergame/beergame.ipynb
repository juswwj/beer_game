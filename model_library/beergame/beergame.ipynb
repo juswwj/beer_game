{
 "cells": [
  {
   "cell_type": "raw",
   "id": "e9c2cf2f-5a30-4704-ac00-21a9e1dc4008",
   "metadata": {},
   "source": [
    "---\n",
    "title: \"The Beer Distribution Game\"\n",
    "keywords: agent-based modeling, system dynamics,abm, bptk, bptk-py, python, business simulation, reinforcement learning, q-learning\n",
    "description: \"Computational notebooks, System Dynamics Models, Agent-based Models and A Reinforcement Learning Algorithm\"\n",
    "---"
   ]
  },
  {
   "cell_type": "markdown",
   "id": "7010872f-18b0-41a9-9f47-1353b826909a",
   "metadata": {},
   "source": [
    "# The Beer Distribution Game\n",
    "**Computational notebooks, System Dynamics Models, Agent-based Models and a Reinforcement Learning Algorithm**\n",
    "\n",
    "The Beer Game was developed in the 1960s at MIT to illustrate how difficult it is to manage dynamic systems – in this case a supply chain that delivers beer from a brewery to the end consumer.\n",
    "\n",
    "This repository contains computational notebooks, simulation models and AI training algorithms that explore the game in depth.\n",
    "\n",
    "Please read the companion blog posts on our [website](https://www.transentis.com/case-study-play-the-beer-game/en/).\n",
    "\n",
    "Have a go at playing the Beer Game (on your own or – much more fun – in a group) before you read the notebooks:\n",
    "\n",
    "You can play the online alone or in a group on our [beergame website](https://beergame.transentis.com/). \n",
    "\n",
    "## Contents\n",
    "\n",
    "### Notebooks\n",
    "\n",
    "The model libary contains a number of Jupyter notebooks. The key ones are:\n",
    "\n",
    "* [Understanding the Beer Game](understanding_the_beergame.ipynb). This is the best place to get started - play the Beer Game in single player mode and learn about the dynamics governing the game. This version uses a SD DSL implementation of the Beer Game.\n",
    "* [Simulating the Beer Game](beergame_sd_dsl.ipynb) This notebook introduces a stock and flow model for the Beer Game and discusses an implementation of that model using the SD DSL.\n",
    "* [An Agent-based Approach To Modeling the Beer Game](beergame_abm.ipynb). An agent-based simulation of the Beer Game that can be used to test policies. It is also used as the basis for the reinforcement learning apporach described in the notebook [Training AI to play the Beer Game](training_ai_beergame.ipynb)\n",
    "* [Training AI to play the Beer Game – A Reinforcement Learning Approach](training_ai_beergame.ipynb). This notebook introduces the concept of reinforcement learning and then applies it to training intelligent agents to play the Beer Game.\n",
    "\n",
    "### Models\n",
    "\n",
    "This repository contains three simulation models of the Beer Game:\n",
    "\n",
    "* One version of the Beer Game model built in Python using the SD DSL provided by BPTK. This version is used in the [Understanding the Beer Game](understanding_the_beergame.ipynb) notebook and is discussed in detail in the [Simulating the Beer Game](beergame_sd_dsl.ipynb) notebook. The code for this version can be found in the _src/sd_dsl_ directory.\n",
    "* One version of the Beer Game model built using Stella Architect and then utilizing the XMILE transpiler that is part of BPTK. The Stella model can be found in the _simulation_models_ directory. This version of the simulation is used in the [Understanding the Beer Game (XMILE)](understanding_the_beergame_xmile.ipynb) notebook.\n",
    "* One built using the Agent-based modeling framework that is part of BPTK-Py. The ABM version can be found in the  _src/abm_ directory.  This version is is used in the [An Agent-based Approach To Modeling the Beer Game](beergame_abm.ipynb) and [Training AI to Play The Beer Game](training_ai_beergame.ipynb) notebooks."
   ]
  }
 ],
 "metadata": {
  "kernelspec": {
   "display_name": "Python 3 (ipykernel)",
   "language": "python",
   "name": "python3"
  },
  "language_info": {
   "codemirror_mode": {
    "name": "ipython",
    "version": 3
   },
   "file_extension": ".py",
   "mimetype": "text/x-python",
   "name": "python",
   "nbconvert_exporter": "python",
   "pygments_lexer": "ipython3",
   "version": "3.11.1"
  },
  "widgets": {
   "application/vnd.jupyter.widget-state+json": {
    "state": {},
    "version_major": 2,
    "version_minor": 0
   }
  }
 },
 "nbformat": 4,
 "nbformat_minor": 5
}
