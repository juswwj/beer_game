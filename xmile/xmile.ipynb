{
 "cells": [
  {
   "cell_type": "raw",
   "metadata": {},
   "source": [
    "---\n",
    "title: \"Introduction to XMILE\"\n",
    "keywords: system dynamics, systemdynamics, xmile, bptk, bptk-py, python, business simulation\n",
    "description: \"Using XMILE System Dynamics models in the BPTK-Py business simulation framework.\"\n",
    "---"
   ]
  },
  {
   "attachments": {},
   "cell_type": "markdown",
   "metadata": {},
   "source": [
    "# Working with XMILE\n",
    "\n",
    "Part of the BPTK framework is a transpiler that allows you to convert an XMILE model into a Python class. \n",
    "\n",
    "This feature allows you to work with XMILE models independently of the tool you used to create the model, e.g. you can then use them in Jupyter notebooks via [bptk](../api/api_bptk.md)  or set up a http server using [BptkServer](../api/api_bptk_server/api_bptk_server.ipynb).\n",
    "\n",
    "We use Stella from [iseesystems](https://www.iseesystems.com) to work with XMILE models.\n",
    "\n",
    "## Contents\n",
    "\n",
    "- [Writing Computational Essays Based on Simulation Models](./writing_computational_essays/writing_computational_essays.ipynb)\n",
    "- [XMILE Step by Step](./xmile_step_by_step/xmile_step_by_step.ipynb)\n",
    "- [Exporting Simulation Results](./exporting_simulation_results/exporting_simulation_results.ipynb)\n",
    "- [Working with Arrayed Variables in XMILE Models](./xmile_arrays/xmile_arrays.ipynb)\n",
    "- [Using the XMILE Compiler Standalone](./use_sd_compiler_standalone/use_sd_compiler_standalone.md)\n"
   ]
  },
  {
   "cell_type": "markdown",
   "metadata": {},
   "source": []
  }
 ],
 "metadata": {
  "kernelspec": {
   "display_name": "Python 3 (ipykernel)",
   "language": "python",
   "name": "python3"
  },
  "language_info": {
   "codemirror_mode": {
    "name": "ipython",
    "version": 3
   },
   "file_extension": ".py",
   "mimetype": "text/x-python",
   "name": "python",
   "nbconvert_exporter": "python",
   "pygments_lexer": "ipython3",
   "version": "3.11.1"
  },
  "widgets": {
   "application/vnd.jupyter.widget-state+json": {
    "state": {},
    "version_major": 2,
    "version_minor": 0
   }
  }
 },
 "nbformat": 4,
 "nbformat_minor": 4
}
