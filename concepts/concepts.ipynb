{
 "cells": [
  {
   "cell_type": "raw",
   "metadata": {},
   "source": [
    "---\n",
    "title: \"Core Concepts\"\n",
    "keywords: agent-based modeling, system dynamics,abm, bptk, bptk-py, python, business simulation\n",
    "description: \"General overview of the BPTK-Py business simulation framework, as it applies to Agent-based modeling and System Dynamics.\"\n",
    "---"
   ]
  },
  {
   "attachments": {},
   "cell_type": "markdown",
   "metadata": {},
   "source": [
    "# Core Concepts\n",
    "\n",
    "This section contains documents that are relevant to Agent-based modeling, System Dynamics with XMILE and System Dynamics with the SD DSL.\n",
    "\n",
    "## Contents\n",
    "\n",
    "- [Architecture of the BPTK Framework](./bptk_architecture/bptk_architecture.ipynb)\n",
    "- [Scenarios in Depth](./scenarios/scenarios.ipynb)\n",
    "- [Accessing Raw Simulation Results](./accessing_raw_simulation_results/accessing_raw_simulation_results.ipynb)\n",
    "- [Advanced Plotting Features](./advanced_plotting_features/advanced_plotting_features.ipynb)"
   ]
  },
  {
   "cell_type": "markdown",
   "metadata": {},
   "source": []
  }
 ],
 "metadata": {
  "kernelspec": {
   "display_name": "Python 3 (ipykernel)",
   "language": "python",
   "name": "python3"
  },
  "language_info": {
   "codemirror_mode": {
    "name": "ipython",
    "version": 3
   },
   "file_extension": ".py",
   "mimetype": "text/x-python",
   "name": "python",
   "nbconvert_exporter": "python",
   "pygments_lexer": "ipython3",
   "version": "3.11.1"
  },
  "vscode": {
   "interpreter": {
    "hash": "ba3587300f7e805997d2ae5fd2061dd10da225d2e8c160c1a8a4438e4da6c9ad"
   }
  },
  "widgets": {
   "application/vnd.jupyter.widget-state+json": {
    "state": {},
    "version_major": 2,
    "version_minor": 0
   }
  }
 },
 "nbformat": 4,
 "nbformat_minor": 4
}
